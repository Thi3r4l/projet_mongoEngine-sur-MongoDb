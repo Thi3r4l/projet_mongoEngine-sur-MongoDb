{
 "cells": [
  {
   "cell_type": "code",
   "execution_count": null,
   "metadata": {},
   "outputs": [],
   "source": [
    "from mongoengine import *\n",
    "#from mongoengine import Document, ListField, StringField,URLField\n",
    "import pprint\n",
    "from math import *\n",
    "from pymongo import *"
   ]
  },
  {
   "cell_type": "code",
   "execution_count": null,
   "metadata": {},
   "outputs": [],
   "source": [
    "\"\"\"\"\n",
    "0. The number of listeners by music. \n",
    "1. The average age by music. \n",
    "2. The pyramid age: the function should take 2 parameters a city and slice size. Compute the pyramid only for that city. The slice size is the number of years by which you aggregate people (for example 10 by 10 or  3y by 3y).\n"
   ]
  },
  {
   "cell_type": "code",
   "execution_count": null,
   "metadata": {},
   "outputs": [],
   "source": [
    "connect(db=\"rhobs\")"
   ]
  },
  {
   "cell_type": "code",
   "execution_count": null,
   "metadata": {},
   "outputs": [],
   "source": [
    "class Test(Document):\n",
    "    city=StringField(required=True, max_length=70)\n",
    "    job=StringField(required=True, max_length=170)\n",
    "    iban=StringField(required=True, max_length=27)\n",
    "    color=StringField(required=True, max_length=10)\n",
    "    phone=StringField(required=True, max_length=20)\n",
    "    birthdate=StringField(required=True, max_length=10)\n",
    "    #birthdate=DateTimeField()\n",
    "    music=ListField(StringField(max_length=5))\n",
    "\n",
    "\n",
    "    \n",
    "    "
   ]
  },
  {
   "cell_type": "code",
   "execution_count": null,
   "metadata": {},
   "outputs": [],
   "source": [
    "\"\"\"\"\n",
    "0. The number of listeners by music. "
   ]
  },
  {
   "cell_type": "code",
   "execution_count": null,
   "metadata": {},
   "outputs": [],
   "source": [
    "#La liste \"ambiance\" est fourni grâce à MongoDb.La manipulation a été faite sur powershell. Voir photo joint        \n",
    "\n",
    "\n",
    "ambiance=['blues','classical','country','disco','eurodance','gabber','hiphop','jazz','metal','pop','reggae','rock','trance']\n",
    "lon=len(ambiance)\n",
    "for i in range (lon):\n",
    "    s=ambiance[i]\n",
    "    #k=Test.objects()[s].music[s]\n",
    "    m=Test.objects(music=s).count()\n",
    "    print(f'found {m} listeners with music is {ambiance[i]}')"
   ]
  },
  {
   "cell_type": "code",
   "execution_count": null,
   "metadata": {},
   "outputs": [],
   "source": [
    "def lecteur(ambiance):\n",
    "    \n",
    "    for i in range (len(ambiance)):\n",
    "        s=ambiance[i]\n",
    "        #k=Test.objects()[s].music[s]\n",
    "        m=Test.objects(music=s).count()\n",
    "        print(f'found {m} listeners of {ambiance[i]} music')\n",
    "        \n",
    "ambiance=['blues','classical','country','disco','eurodance','gabber','hiphop','jazz','metal','pop','reggae','rock','trance']\n",
    "\n",
    "lecteur(ambiance)"
   ]
  },
  {
   "cell_type": "code",
   "execution_count": null,
   "metadata": {},
   "outputs": [],
   "source": []
  },
  {
   "cell_type": "code",
   "execution_count": null,
   "metadata": {},
   "outputs": [],
   "source": []
  },
  {
   "cell_type": "code",
   "execution_count": null,
   "metadata": {},
   "outputs": [],
   "source": [
    "\"\"\"\"\n",
    "1. The average age by music. "
   ]
  },
  {
   "cell_type": "code",
   "execution_count": null,
   "metadata": {},
   "outputs": [],
   "source": []
  },
  {
   "cell_type": "code",
   "execution_count": null,
   "metadata": {},
   "outputs": [],
   "source": [
    "ambiance=['blues','classical','country','disco','eurodance','gabber','hiphop','jazz','metal','pop','reggae','rock','trance']\n",
    "lon=len(ambiance)\n",
    "for i in range (lon):\n",
    "    s=ambiance[i]\n",
    "    m=Test.objects(music=s).count()\n",
    "    age=0\n",
    "    for doc in Test.objects(music=ambiance[i]):\n",
    "        l=[]\n",
    "\n",
    "        b=doc.birthdate\n",
    "        mi=b.split(\"-\")\n",
    "        mi=int(mi[0])\n",
    "        age=2021-mi+age\n",
    "    print(f\"found {m} people who listened {ambiance[i]} music, their average age is {age//m}.\")\n"
   ]
  },
  {
   "cell_type": "code",
   "execution_count": null,
   "metadata": {},
   "outputs": [],
   "source": [
    "#calcul pour vérifier individuellement selon le type de music\n",
    "age=0\n",
    "for doc in Test.objects(music='country'):\n",
    "    l=[]\n",
    "    \n",
    "    m=doc.birthdate\n",
    "    mi=m.split(\"-\")\n",
    "    mi=int(mi[0])\n",
    "    age=2021-mi+age\n",
    "print(age)\n",
    "print(age//20817) #changer la valeur du dénominateur selon le nombre d'auditeurs."
   ]
  },
  {
   "cell_type": "code",
   "execution_count": null,
   "metadata": {},
   "outputs": [],
   "source": []
  },
  {
   "cell_type": "code",
   "execution_count": null,
   "metadata": {},
   "outputs": [],
   "source": [
    "''''\n",
    "2. The pyramid age: the function should take 2 parameters a city and slice size. \n",
    "Compute the pyramid only for that city. \n",
    "The slice size is the number of years by which you aggregate people \n",
    "(for example 10 by 10 or  3y by 3y)."
   ]
  },
  {
   "cell_type": "code",
   "execution_count": null,
   "metadata": {},
   "outputs": [],
   "source": [
    "#age et city\n",
    "loc=['Barbier-sur-Tanguy', 'Blin','Bourgeois','Breton','Colin','Fabre','Faure','Foucher','Gay','Lerouxboeuf', 'MaceBourg','Mallet','Mary','Prevost','Saint Nathalie','Saint Thibaut', 'Sainte Corinne','Sainte OlivieVille','Vidalnec']\n",
    "#choisir la ville parmi la liste loc\n",
    "def pyramide(ville, age_slice):\n",
    "\n",
    "    age=0\n",
    "    l=[]\n",
    "    p=[]\n",
    "\n",
    "    for doc in Test.objects(city='Breton'):\n",
    "        m=doc.birthdate\n",
    "        v=doc.music\n",
    "        mi=m.split(\"-\")\n",
    "        mi=int(mi[0])\n",
    "        age=2021-mi\n",
    "        l.append(age)\n",
    "        m=min(l)\n",
    "        M=max(l)\n",
    "        s=set(l)\n",
    "        while (10 <=age & age<=101):\n",
    "                age=age+age_slice\n",
    "                if age<=101:\n",
    "                    print(age,v)\n",
    "\n",
    "pyramide('Faure', 3)   "
   ]
  },
  {
   "cell_type": "code",
   "execution_count": null,
   "metadata": {},
   "outputs": [],
   "source": [
    "#Ps: je n'ai pas trop compris le principe de la pyramide. J'espere que cela y ressemble un peu à ton attente."
   ]
  },
  {
   "cell_type": "code",
   "execution_count": null,
   "metadata": {},
   "outputs": [],
   "source": []
  }
 ],
 "metadata": {
  "kernelspec": {
   "display_name": "Python 3",
   "language": "python",
   "name": "python3"
  },
  "language_info": {
   "codemirror_mode": {
    "name": "ipython",
    "version": 3
   },
   "file_extension": ".py",
   "mimetype": "text/x-python",
   "name": "python",
   "nbconvert_exporter": "python",
   "pygments_lexer": "ipython3",
   "version": "3.8.5"
  }
 },
 "nbformat": 4,
 "nbformat_minor": 4
}
